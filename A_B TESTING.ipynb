{
 "cells": [
  {
   "cell_type": "code",
   "execution_count": null,
   "id": "18ab73f4",
   "metadata": {},
   "outputs": [],
   "source": []
  },
  {
   "cell_type": "markdown",
   "id": "050f1c41",
   "metadata": {},
   "source": [
    "# A/B testing in Machine Learning"
   ]
  },
  {
   "cell_type": "markdown",
   "id": "686d7fac",
   "metadata": {},
   "source": [
    "A/B testing in Machine Learning (ML) can be a powerful tool for comparing different models or strategies. Let's use a simple example to illustrate how A/B testing can be conducted in a ML context. We'll create a synthetic dataset for a hypothetical scenario where we want to test two different recommendation algorithms for an e-commerce platform. The goal is to see which algorithm leads to higher user engagement, measured by the click-through rate (CTR)."
   ]
  },
  {
   "cell_type": "markdown",
   "id": "f144d18a",
   "metadata": {},
   "source": [
    "# Scenario:"
   ]
  },
  {
   "cell_type": "markdown",
   "id": "0a6d3272",
   "metadata": {},
   "source": [
    "Algorithm A: The current recommendation algorithm.\n",
    "    \n",
    "Algorithm B: A new recommendation algorithm proposed to improve engagement."
   ]
  },
  {
   "cell_type": "markdown",
   "id": "ae3f6fed",
   "metadata": {},
   "source": [
    "# Hypothesis:"
   ]
  },
  {
   "cell_type": "markdown",
   "id": "868a8aa9",
   "metadata": {},
   "source": [
    "H0 (Null Hypothesis): Algorithm B does not lead to a higher click-through rate than Algorithm A.\n",
    "    \n",
    "H1 (Alternative Hypothesis): Algorithm B leads to a higher click-through rate than Algorithm A."
   ]
  },
  {
   "cell_type": "code",
   "execution_count": null,
   "id": "66064d0c",
   "metadata": {},
   "outputs": [],
   "source": []
  },
  {
   "cell_type": "code",
   "execution_count": 5,
   "id": "fc8fd6ea",
   "metadata": {},
   "outputs": [],
   "source": [
    "import pandas as pd\n",
    "import numpy as np\n",
    "from scipy.stats import chi2_contingency\n",
    "\n",
    "# Setting a random seed for reproducibility\n",
    "np.random.seed(42)"
   ]
  },
  {
   "cell_type": "code",
   "execution_count": 6,
   "id": "94684b4a",
   "metadata": {},
   "outputs": [
    {
     "name": "stdout",
     "output_type": "stream",
     "text": [
      "   user_id group  clicked\n",
      "0        0     A      0.0\n",
      "1        1     B      0.0\n",
      "2        2     A      0.0\n",
      "3        3     A      0.0\n",
      "4        4     A      0.0\n"
     ]
    }
   ],
   "source": [
    "import pandas as pd\n",
    "\n",
    "# Replace 'your_file.csv' with the path to your actual CSV file\n",
    "file_path = 'AB_test_data.csv'\n",
    "df = pd.read_csv(file_path)\n",
    "\n",
    "# Display the first few rows of the DataFrame\n",
    "print(df.head())\n"
   ]
  },
  {
   "cell_type": "code",
   "execution_count": 7,
   "id": "b8e49523",
   "metadata": {},
   "outputs": [
    {
     "data": {
      "text/plain": [
       "(clicked  0.0  1.0\n",
       " group            \n",
       " A        447   43\n",
       " B        418   92,\n",
       " 17.58005707099796,\n",
       " 2.7546204803554738e-05)"
      ]
     },
     "execution_count": 7,
     "metadata": {},
     "output_type": "execute_result"
    }
   ],
   "source": [
    "# Aggregating the number of clicks and non-clicks for each group\n",
    "grouped_data = df.groupby('group')['clicked'].value_counts().unstack().fillna(0)\n",
    "\n",
    "# Conducting the Chi-square test\n",
    "chi2, p_value, dof, expected = chi2_contingency(grouped_data)\n",
    "\n",
    "# Results\n",
    "grouped_data, chi2, p_value\n"
   ]
  },
  {
   "cell_type": "markdown",
   "id": "4a217c45",
   "metadata": {},
   "source": [
    "Given the low p-value (less than 0.05), we reject the null hypothesis (H0) and conclude that there is a statistically significant difference in click-through rates between the two groups. This suggests that Algorithm B leads to a higher click-through rate compared to Algorithm A in our synthetic experiment."
   ]
  },
  {
   "cell_type": "markdown",
   "id": "6895ab90",
   "metadata": {},
   "source": [
    "This example demonstrates how A/B testing in machine learning can be used to compare the performance of different algorithms or strategies in a controlled experiment. In real-world scenarios, additional considerations such as the duration of the test, potential biases, and the scale of the experiment would also need to be taken into accoun"
   ]
  },
  {
   "cell_type": "code",
   "execution_count": null,
   "id": "063bcc81",
   "metadata": {},
   "outputs": [],
   "source": []
  },
  {
   "cell_type": "markdown",
   "id": "049bf4c2",
   "metadata": {},
   "source": [
    "# ANOTHER EXAMPLE"
   ]
  },
  {
   "cell_type": "markdown",
   "id": "064fb9c7",
   "metadata": {},
   "source": [
    "For example, in a click-through rate (CTR) test, your table might look like this:"
   ]
  },
  {
   "cell_type": "markdown",
   "id": "f56953e4",
   "metadata": {},
   "source": [
    "Group A---Clicked  (a)            Did not Click (b)\n",
    "\n",
    "Group B---Clicked  (c)            Did not Click (d)\n",
    "\n",
    "Where:\n",
    "\n",
    "a is the number of clicks in Group A.\n",
    "\n",
    "b is the number of non-clicks in Group A.\n",
    "\n",
    "c is the number of clicks in Group B.\n",
    "\n",
    "d is the number of non-clicks in Group B.\n"
   ]
  },
  {
   "cell_type": "code",
   "execution_count": null,
   "id": "1b2bb2cf",
   "metadata": {},
   "outputs": [],
   "source": []
  },
  {
   "cell_type": "code",
   "execution_count": 1,
   "id": "6237fa64",
   "metadata": {},
   "outputs": [],
   "source": [
    "from scipy.stats import chi2_contingency\n"
   ]
  },
  {
   "cell_type": "markdown",
   "id": "2d7bf223",
   "metadata": {},
   "source": [
    "For instance, if Group A had 30 clicks and 70 non-clicks, and Group B had 45 clicks and 55 non-clicks, your table would look like this:"
   ]
  },
  {
   "cell_type": "code",
   "execution_count": 2,
   "id": "7e22c6c2",
   "metadata": {},
   "outputs": [],
   "source": [
    "contingency_table = [\n",
    "    [30, 70],  # Group A data\n",
    "    [45, 55]   # Group B data\n",
    "]\n"
   ]
  },
  {
   "cell_type": "code",
   "execution_count": 3,
   "id": "acd6d33c",
   "metadata": {},
   "outputs": [],
   "source": [
    "chi2_statistic, p_value, degrees_of_freedom, expected_frequencies = chi2_contingency(contingency_table)\n"
   ]
  },
  {
   "cell_type": "code",
   "execution_count": 4,
   "id": "03ae7b69",
   "metadata": {},
   "outputs": [
    {
     "name": "stdout",
     "output_type": "stream",
     "text": [
      "Chi-square Statistic: 4.18\n",
      "P-value: 0.0409\n",
      "Degrees of Freedom: 1\n",
      "Expected Frequencies: [[37.5 62.5]\n",
      " [37.5 62.5]]\n"
     ]
    }
   ],
   "source": [
    "# Output the results\n",
    "print(f\"Chi-square Statistic: {chi2_statistic:.2f}\")\n",
    "print(f\"P-value: {p_value:.4f}\")\n",
    "print(f\"Degrees of Freedom: {degrees_of_freedom}\")\n",
    "print(\"Expected Frequencies:\", expected_frequencies)"
   ]
  },
  {
   "cell_type": "markdown",
   "id": "aaadf6c6",
   "metadata": {},
   "source": [
    "A p-value of 0.0409 in the context of your Chi-square test suggests that there is a statistically significant difference between the groups you are comparing. The typical threshold for statistical significance is 0.05. Since your p-value is below this threshold, you can reject the null hypothesis, which posits that there is no significant difference between the groups."
   ]
  },
  {
   "cell_type": "markdown",
   "id": "6aec5e18",
   "metadata": {},
   "source": [
    "The degrees of freedom (df) for a Chi-square test is calculated based on the size of the contingency table. For a simple 2x2 table (like in an A/B test), the formula is:"
   ]
  },
  {
   "cell_type": "markdown",
   "id": "7351bc5e",
   "metadata": {},
   "source": [
    "df=(Number of Rows−1)×(Number of Columns−1)\n",
    "\n",
    "\n",
    "In our case, df = (2 - 1) * (2 - 1) = 1."
   ]
  },
  {
   "cell_type": "code",
   "execution_count": null,
   "id": "af893476",
   "metadata": {},
   "outputs": [],
   "source": []
  }
 ],
 "metadata": {
  "kernelspec": {
   "display_name": "Python 3 (ipykernel)",
   "language": "python",
   "name": "python3"
  },
  "language_info": {
   "codemirror_mode": {
    "name": "ipython",
    "version": 3
   },
   "file_extension": ".py",
   "mimetype": "text/x-python",
   "name": "python",
   "nbconvert_exporter": "python",
   "pygments_lexer": "ipython3",
   "version": "3.11.5"
  }
 },
 "nbformat": 4,
 "nbformat_minor": 5
}
